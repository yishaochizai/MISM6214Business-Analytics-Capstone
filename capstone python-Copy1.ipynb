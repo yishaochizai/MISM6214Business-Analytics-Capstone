{
 "cells": [
  {
   "cell_type": "markdown",
   "id": "221c3bd2",
   "metadata": {},
   "source": [
    "## 14/11 Decision Trees"
   ]
  },
  {
   "cell_type": "code",
   "execution_count": 1,
   "id": "4993c31e",
   "metadata": {},
   "outputs": [
    {
     "name": "stdout",
     "output_type": "stream",
     "text": [
      "Requirement already satisfied: pandas in ./opt/anaconda3/lib/python3.9/site-packages (1.5.2)\n",
      "Requirement already satisfied: pytz>=2020.1 in ./opt/anaconda3/lib/python3.9/site-packages (from pandas) (2022.1)\n",
      "Requirement already satisfied: numpy>=1.20.3 in ./opt/anaconda3/lib/python3.9/site-packages (from pandas) (1.21.5)\n",
      "Requirement already satisfied: python-dateutil>=2.8.1 in ./opt/anaconda3/lib/python3.9/site-packages (from pandas) (2.8.2)\n",
      "Requirement already satisfied: six>=1.5 in ./opt/anaconda3/lib/python3.9/site-packages (from python-dateutil>=2.8.1->pandas) (1.16.0)\n",
      "Requirement already satisfied: numpy in ./opt/anaconda3/lib/python3.9/site-packages (1.21.5)\n",
      "Requirement already satisfied: matplotlib in ./opt/anaconda3/lib/python3.9/site-packages (3.5.2)\n",
      "Requirement already satisfied: fonttools>=4.22.0 in ./opt/anaconda3/lib/python3.9/site-packages (from matplotlib) (4.25.0)\n",
      "Requirement already satisfied: pillow>=6.2.0 in ./opt/anaconda3/lib/python3.9/site-packages (from matplotlib) (9.2.0)\n",
      "Requirement already satisfied: packaging>=20.0 in ./opt/anaconda3/lib/python3.9/site-packages (from matplotlib) (21.3)\n",
      "Requirement already satisfied: kiwisolver>=1.0.1 in ./opt/anaconda3/lib/python3.9/site-packages (from matplotlib) (1.4.2)\n",
      "Requirement already satisfied: python-dateutil>=2.7 in ./opt/anaconda3/lib/python3.9/site-packages (from matplotlib) (2.8.2)\n",
      "Requirement already satisfied: cycler>=0.10 in ./opt/anaconda3/lib/python3.9/site-packages (from matplotlib) (0.11.0)\n",
      "Requirement already satisfied: numpy>=1.17 in ./opt/anaconda3/lib/python3.9/site-packages (from matplotlib) (1.21.5)\n",
      "Requirement already satisfied: pyparsing>=2.2.1 in ./opt/anaconda3/lib/python3.9/site-packages (from matplotlib) (3.0.9)\n",
      "Requirement already satisfied: six>=1.5 in ./opt/anaconda3/lib/python3.9/site-packages (from python-dateutil>=2.7->matplotlib) (1.16.0)\n",
      "Requirement already satisfied: pyarrow in ./opt/anaconda3/lib/python3.9/site-packages (10.0.1)\n",
      "Requirement already satisfied: numpy>=1.16.6 in ./opt/anaconda3/lib/python3.9/site-packages (from pyarrow) (1.21.5)\n",
      "Requirement already satisfied: sklearn in ./opt/anaconda3/lib/python3.9/site-packages (0.0.post1)\n",
      "Requirement already satisfied: xgboost in ./opt/anaconda3/lib/python3.9/site-packages (1.7.1)\n",
      "Requirement already satisfied: scipy in ./opt/anaconda3/lib/python3.9/site-packages (from xgboost) (1.9.1)\n",
      "Requirement already satisfied: numpy in ./opt/anaconda3/lib/python3.9/site-packages (from xgboost) (1.21.5)\n",
      "Requirement already satisfied: fastparquet in ./opt/anaconda3/lib/python3.9/site-packages (2022.12.0)\n",
      "Requirement already satisfied: numpy>=1.20.3 in ./opt/anaconda3/lib/python3.9/site-packages (from fastparquet) (1.21.5)\n",
      "Requirement already satisfied: packaging in ./opt/anaconda3/lib/python3.9/site-packages (from fastparquet) (21.3)\n",
      "Requirement already satisfied: cramjam>=2.3 in ./opt/anaconda3/lib/python3.9/site-packages (from fastparquet) (2.6.2)\n",
      "Requirement already satisfied: pandas>=1.5.0 in ./opt/anaconda3/lib/python3.9/site-packages (from fastparquet) (1.5.2)\n",
      "Requirement already satisfied: fsspec in ./opt/anaconda3/lib/python3.9/site-packages (from fastparquet) (2022.7.1)\n",
      "Requirement already satisfied: python-dateutil>=2.8.1 in ./opt/anaconda3/lib/python3.9/site-packages (from pandas>=1.5.0->fastparquet) (2.8.2)\n",
      "Requirement already satisfied: pytz>=2020.1 in ./opt/anaconda3/lib/python3.9/site-packages (from pandas>=1.5.0->fastparquet) (2022.1)\n",
      "Requirement already satisfied: pyparsing!=3.0.5,>=2.0.2 in ./opt/anaconda3/lib/python3.9/site-packages (from packaging->fastparquet) (3.0.9)\n",
      "Requirement already satisfied: six>=1.5 in ./opt/anaconda3/lib/python3.9/site-packages (from python-dateutil>=2.8.1->pandas>=1.5.0->fastparquet) (1.16.0)\n"
     ]
    }
   ],
   "source": [
    "#install libraries\n",
    "!pip install pandas\n",
    "!pip install numpy\n",
    "!pip install matplotlib\n",
    "!pip install pyarrow\n",
    "!pip install sklearn\n",
    "!pip install xgboost\n",
    "!pip install fastparquet"
   ]
  },
  {
   "cell_type": "code",
   "execution_count": 2,
   "id": "71a0ff55",
   "metadata": {},
   "outputs": [],
   "source": [
    "import pandas as pd\n",
    "import numpy as np\n",
    "import matplotlib as plt\n",
    "import pyarrow as pa\n",
    "import sklearn as sk\n",
    "from sklearn.model_selection import KFold, cross_val_score\n",
    "from sklearn import ensemble\n",
    "from sklearn import tree\n",
    "from sklearn.tree import DecisionTreeClassifier # Import Decision Tree Classifier\n",
    "from sklearn.model_selection import train_test_split # Import train_test_split function\n",
    "from sklearn import metrics #Import scikit-learn metrics module for accuracy calculation"
   ]
  },
  {
   "cell_type": "code",
   "execution_count": 3,
   "id": "234b9f60",
   "metadata": {},
   "outputs": [
    {
     "name": "stdout",
     "output_type": "stream",
     "text": [
      "Requirement already satisfied: pandas in ./opt/anaconda3/lib/python3.9/site-packages (1.5.2)\n",
      "Requirement already satisfied: pytz>=2020.1 in ./opt/anaconda3/lib/python3.9/site-packages (from pandas) (2022.1)\n",
      "Requirement already satisfied: python-dateutil>=2.8.1 in ./opt/anaconda3/lib/python3.9/site-packages (from pandas) (2.8.2)\n",
      "Requirement already satisfied: numpy>=1.20.3 in ./opt/anaconda3/lib/python3.9/site-packages (from pandas) (1.21.5)\n",
      "Requirement already satisfied: six>=1.5 in ./opt/anaconda3/lib/python3.9/site-packages (from python-dateutil>=2.8.1->pandas) (1.16.0)\n",
      "Note: you may need to restart the kernel to use updated packages.\n"
     ]
    }
   ],
   "source": [
    "pip install --upgrade pandas"
   ]
  },
  {
   "cell_type": "code",
   "execution_count": 4,
   "id": "4b1b1b0a",
   "metadata": {},
   "outputs": [],
   "source": [
    "df = pd.read_csv('/Users/yishaochizai/Desktop/capstone/cor_vars') "
   ]
  },
  {
   "cell_type": "code",
   "execution_count": 5,
   "id": "1a597dd6",
   "metadata": {},
   "outputs": [
    {
     "data": {
      "text/html": [
       "<div>\n",
       "<style scoped>\n",
       "    .dataframe tbody tr th:only-of-type {\n",
       "        vertical-align: middle;\n",
       "    }\n",
       "\n",
       "    .dataframe tbody tr th {\n",
       "        vertical-align: top;\n",
       "    }\n",
       "\n",
       "    .dataframe thead th {\n",
       "        text-align: right;\n",
       "    }\n",
       "</style>\n",
       "<table border=\"1\" class=\"dataframe\">\n",
       "  <thead>\n",
       "    <tr style=\"text-align: right;\">\n",
       "      <th></th>\n",
       "      <th>Unnamed: 0</th>\n",
       "      <th>d1_spend</th>\n",
       "      <th>d3_spend</th>\n",
       "      <th>d7_spend</th>\n",
       "      <th>d14_spend</th>\n",
       "      <th>d30_spend</th>\n",
       "      <th>avg_p_1</th>\n",
       "      <th>count_p_1</th>\n",
       "      <th>p_4</th>\n",
       "      <th>p_5</th>\n",
       "      <th>...</th>\n",
       "      <th>ms_12</th>\n",
       "      <th>ms_15</th>\n",
       "      <th>ms_16</th>\n",
       "      <th>ms_11</th>\n",
       "      <th>ms_5</th>\n",
       "      <th>ms_20</th>\n",
       "      <th>ms_26</th>\n",
       "      <th>ms_4</th>\n",
       "      <th>ms_25</th>\n",
       "      <th>ms_10</th>\n",
       "    </tr>\n",
       "  </thead>\n",
       "  <tbody>\n",
       "    <tr>\n",
       "      <th>0</th>\n",
       "      <td>1</td>\n",
       "      <td>3.779171</td>\n",
       "      <td>3.779171</td>\n",
       "      <td>3.849837</td>\n",
       "      <td>3.849837</td>\n",
       "      <td>3.849837</td>\n",
       "      <td>40.583161</td>\n",
       "      <td>72</td>\n",
       "      <td>0.5</td>\n",
       "      <td>0.5</td>\n",
       "      <td>...</td>\n",
       "      <td>0</td>\n",
       "      <td>0</td>\n",
       "      <td>0</td>\n",
       "      <td>0</td>\n",
       "      <td>0</td>\n",
       "      <td>0</td>\n",
       "      <td>0</td>\n",
       "      <td>0</td>\n",
       "      <td>0</td>\n",
       "      <td>0</td>\n",
       "    </tr>\n",
       "    <tr>\n",
       "      <th>1</th>\n",
       "      <td>2</td>\n",
       "      <td>0.222576</td>\n",
       "      <td>0.536247</td>\n",
       "      <td>0.536247</td>\n",
       "      <td>0.536247</td>\n",
       "      <td>0.536247</td>\n",
       "      <td>64.728265</td>\n",
       "      <td>40</td>\n",
       "      <td>0.5</td>\n",
       "      <td>0.5</td>\n",
       "      <td>...</td>\n",
       "      <td>0</td>\n",
       "      <td>0</td>\n",
       "      <td>0</td>\n",
       "      <td>0</td>\n",
       "      <td>0</td>\n",
       "      <td>0</td>\n",
       "      <td>0</td>\n",
       "      <td>0</td>\n",
       "      <td>0</td>\n",
       "      <td>0</td>\n",
       "    </tr>\n",
       "    <tr>\n",
       "      <th>2</th>\n",
       "      <td>3</td>\n",
       "      <td>0.049088</td>\n",
       "      <td>0.049088</td>\n",
       "      <td>0.049088</td>\n",
       "      <td>0.049088</td>\n",
       "      <td>0.049088</td>\n",
       "      <td>91.734774</td>\n",
       "      <td>3</td>\n",
       "      <td>0.0</td>\n",
       "      <td>0.0</td>\n",
       "      <td>...</td>\n",
       "      <td>0</td>\n",
       "      <td>0</td>\n",
       "      <td>0</td>\n",
       "      <td>0</td>\n",
       "      <td>0</td>\n",
       "      <td>0</td>\n",
       "      <td>0</td>\n",
       "      <td>0</td>\n",
       "      <td>0</td>\n",
       "      <td>0</td>\n",
       "    </tr>\n",
       "    <tr>\n",
       "      <th>3</th>\n",
       "      <td>4</td>\n",
       "      <td>0.000000</td>\n",
       "      <td>0.000000</td>\n",
       "      <td>0.000000</td>\n",
       "      <td>0.000000</td>\n",
       "      <td>0.761715</td>\n",
       "      <td>0.000000</td>\n",
       "      <td>0</td>\n",
       "      <td>0.0</td>\n",
       "      <td>0.0</td>\n",
       "      <td>...</td>\n",
       "      <td>0</td>\n",
       "      <td>0</td>\n",
       "      <td>0</td>\n",
       "      <td>0</td>\n",
       "      <td>0</td>\n",
       "      <td>0</td>\n",
       "      <td>0</td>\n",
       "      <td>0</td>\n",
       "      <td>0</td>\n",
       "      <td>0</td>\n",
       "    </tr>\n",
       "    <tr>\n",
       "      <th>4</th>\n",
       "      <td>5</td>\n",
       "      <td>0.377731</td>\n",
       "      <td>0.377731</td>\n",
       "      <td>0.377731</td>\n",
       "      <td>0.377731</td>\n",
       "      <td>0.377731</td>\n",
       "      <td>62.417732</td>\n",
       "      <td>18</td>\n",
       "      <td>0.5</td>\n",
       "      <td>0.5</td>\n",
       "      <td>...</td>\n",
       "      <td>0</td>\n",
       "      <td>0</td>\n",
       "      <td>0</td>\n",
       "      <td>0</td>\n",
       "      <td>0</td>\n",
       "      <td>0</td>\n",
       "      <td>0</td>\n",
       "      <td>0</td>\n",
       "      <td>0</td>\n",
       "      <td>0</td>\n",
       "    </tr>\n",
       "  </tbody>\n",
       "</table>\n",
       "<p>5 rows × 110 columns</p>\n",
       "</div>"
      ],
      "text/plain": [
       "   Unnamed: 0  d1_spend  d3_spend  d7_spend  d14_spend  d30_spend    avg_p_1  \\\n",
       "0           1  3.779171  3.779171  3.849837   3.849837   3.849837  40.583161   \n",
       "1           2  0.222576  0.536247  0.536247   0.536247   0.536247  64.728265   \n",
       "2           3  0.049088  0.049088  0.049088   0.049088   0.049088  91.734774   \n",
       "3           4  0.000000  0.000000  0.000000   0.000000   0.761715   0.000000   \n",
       "4           5  0.377731  0.377731  0.377731   0.377731   0.377731  62.417732   \n",
       "\n",
       "   count_p_1  p_4  p_5  ...  ms_12  ms_15  ms_16  ms_11  ms_5  ms_20  ms_26  \\\n",
       "0         72  0.5  0.5  ...      0      0      0      0     0      0      0   \n",
       "1         40  0.5  0.5  ...      0      0      0      0     0      0      0   \n",
       "2          3  0.0  0.0  ...      0      0      0      0     0      0      0   \n",
       "3          0  0.0  0.0  ...      0      0      0      0     0      0      0   \n",
       "4         18  0.5  0.5  ...      0      0      0      0     0      0      0   \n",
       "\n",
       "   ms_4  ms_25  ms_10  \n",
       "0     0      0      0  \n",
       "1     0      0      0  \n",
       "2     0      0      0  \n",
       "3     0      0      0  \n",
       "4     0      0      0  \n",
       "\n",
       "[5 rows x 110 columns]"
      ]
     },
     "execution_count": 5,
     "metadata": {},
     "output_type": "execute_result"
    }
   ],
   "source": [
    "#inspect the dataset\n",
    "df.head()"
   ]
  },
  {
   "cell_type": "code",
   "execution_count": 6,
   "id": "0847e736",
   "metadata": {},
   "outputs": [],
   "source": [
    "#Delete variable that cannot be in the model\n",
    "dfx = df.drop(columns = ['Unnamed: 0'])"
   ]
  },
  {
   "cell_type": "code",
   "execution_count": 7,
   "id": "d634f210",
   "metadata": {},
   "outputs": [
    {
     "data": {
      "text/html": [
       "<div>\n",
       "<style scoped>\n",
       "    .dataframe tbody tr th:only-of-type {\n",
       "        vertical-align: middle;\n",
       "    }\n",
       "\n",
       "    .dataframe tbody tr th {\n",
       "        vertical-align: top;\n",
       "    }\n",
       "\n",
       "    .dataframe thead th {\n",
       "        text-align: right;\n",
       "    }\n",
       "</style>\n",
       "<table border=\"1\" class=\"dataframe\">\n",
       "  <thead>\n",
       "    <tr style=\"text-align: right;\">\n",
       "      <th></th>\n",
       "      <th>d1_spend</th>\n",
       "      <th>d3_spend</th>\n",
       "      <th>d7_spend</th>\n",
       "      <th>d14_spend</th>\n",
       "      <th>d30_spend</th>\n",
       "      <th>avg_p_1</th>\n",
       "      <th>count_p_1</th>\n",
       "      <th>p_4</th>\n",
       "      <th>p_5</th>\n",
       "      <th>avg_p_6</th>\n",
       "      <th>...</th>\n",
       "      <th>ms_12</th>\n",
       "      <th>ms_15</th>\n",
       "      <th>ms_16</th>\n",
       "      <th>ms_11</th>\n",
       "      <th>ms_5</th>\n",
       "      <th>ms_20</th>\n",
       "      <th>ms_26</th>\n",
       "      <th>ms_4</th>\n",
       "      <th>ms_25</th>\n",
       "      <th>ms_10</th>\n",
       "    </tr>\n",
       "  </thead>\n",
       "  <tbody>\n",
       "    <tr>\n",
       "      <th>0</th>\n",
       "      <td>3.779171</td>\n",
       "      <td>3.779171</td>\n",
       "      <td>3.849837</td>\n",
       "      <td>3.849837</td>\n",
       "      <td>3.849837</td>\n",
       "      <td>40.583161</td>\n",
       "      <td>72</td>\n",
       "      <td>0.5</td>\n",
       "      <td>0.5</td>\n",
       "      <td>10.0</td>\n",
       "      <td>...</td>\n",
       "      <td>0</td>\n",
       "      <td>0</td>\n",
       "      <td>0</td>\n",
       "      <td>0</td>\n",
       "      <td>0</td>\n",
       "      <td>0</td>\n",
       "      <td>0</td>\n",
       "      <td>0</td>\n",
       "      <td>0</td>\n",
       "      <td>0</td>\n",
       "    </tr>\n",
       "    <tr>\n",
       "      <th>1</th>\n",
       "      <td>0.222576</td>\n",
       "      <td>0.536247</td>\n",
       "      <td>0.536247</td>\n",
       "      <td>0.536247</td>\n",
       "      <td>0.536247</td>\n",
       "      <td>64.728265</td>\n",
       "      <td>40</td>\n",
       "      <td>0.5</td>\n",
       "      <td>0.5</td>\n",
       "      <td>10.0</td>\n",
       "      <td>...</td>\n",
       "      <td>0</td>\n",
       "      <td>0</td>\n",
       "      <td>0</td>\n",
       "      <td>0</td>\n",
       "      <td>0</td>\n",
       "      <td>0</td>\n",
       "      <td>0</td>\n",
       "      <td>0</td>\n",
       "      <td>0</td>\n",
       "      <td>0</td>\n",
       "    </tr>\n",
       "    <tr>\n",
       "      <th>2</th>\n",
       "      <td>0.049088</td>\n",
       "      <td>0.049088</td>\n",
       "      <td>0.049088</td>\n",
       "      <td>0.049088</td>\n",
       "      <td>0.049088</td>\n",
       "      <td>91.734774</td>\n",
       "      <td>3</td>\n",
       "      <td>0.0</td>\n",
       "      <td>0.0</td>\n",
       "      <td>10.0</td>\n",
       "      <td>...</td>\n",
       "      <td>0</td>\n",
       "      <td>0</td>\n",
       "      <td>0</td>\n",
       "      <td>0</td>\n",
       "      <td>0</td>\n",
       "      <td>0</td>\n",
       "      <td>0</td>\n",
       "      <td>0</td>\n",
       "      <td>0</td>\n",
       "      <td>0</td>\n",
       "    </tr>\n",
       "    <tr>\n",
       "      <th>3</th>\n",
       "      <td>0.000000</td>\n",
       "      <td>0.000000</td>\n",
       "      <td>0.000000</td>\n",
       "      <td>0.000000</td>\n",
       "      <td>0.761715</td>\n",
       "      <td>0.000000</td>\n",
       "      <td>0</td>\n",
       "      <td>0.0</td>\n",
       "      <td>0.0</td>\n",
       "      <td>0.0</td>\n",
       "      <td>...</td>\n",
       "      <td>0</td>\n",
       "      <td>0</td>\n",
       "      <td>0</td>\n",
       "      <td>0</td>\n",
       "      <td>0</td>\n",
       "      <td>0</td>\n",
       "      <td>0</td>\n",
       "      <td>0</td>\n",
       "      <td>0</td>\n",
       "      <td>0</td>\n",
       "    </tr>\n",
       "    <tr>\n",
       "      <th>4</th>\n",
       "      <td>0.377731</td>\n",
       "      <td>0.377731</td>\n",
       "      <td>0.377731</td>\n",
       "      <td>0.377731</td>\n",
       "      <td>0.377731</td>\n",
       "      <td>62.417732</td>\n",
       "      <td>18</td>\n",
       "      <td>0.5</td>\n",
       "      <td>0.5</td>\n",
       "      <td>10.0</td>\n",
       "      <td>...</td>\n",
       "      <td>0</td>\n",
       "      <td>0</td>\n",
       "      <td>0</td>\n",
       "      <td>0</td>\n",
       "      <td>0</td>\n",
       "      <td>0</td>\n",
       "      <td>0</td>\n",
       "      <td>0</td>\n",
       "      <td>0</td>\n",
       "      <td>0</td>\n",
       "    </tr>\n",
       "  </tbody>\n",
       "</table>\n",
       "<p>5 rows × 109 columns</p>\n",
       "</div>"
      ],
      "text/plain": [
       "   d1_spend  d3_spend  d7_spend  d14_spend  d30_spend    avg_p_1  count_p_1  \\\n",
       "0  3.779171  3.779171  3.849837   3.849837   3.849837  40.583161         72   \n",
       "1  0.222576  0.536247  0.536247   0.536247   0.536247  64.728265         40   \n",
       "2  0.049088  0.049088  0.049088   0.049088   0.049088  91.734774          3   \n",
       "3  0.000000  0.000000  0.000000   0.000000   0.761715   0.000000          0   \n",
       "4  0.377731  0.377731  0.377731   0.377731   0.377731  62.417732         18   \n",
       "\n",
       "   p_4  p_5  avg_p_6  ...  ms_12  ms_15  ms_16  ms_11  ms_5  ms_20  ms_26  \\\n",
       "0  0.5  0.5     10.0  ...      0      0      0      0     0      0      0   \n",
       "1  0.5  0.5     10.0  ...      0      0      0      0     0      0      0   \n",
       "2  0.0  0.0     10.0  ...      0      0      0      0     0      0      0   \n",
       "3  0.0  0.0      0.0  ...      0      0      0      0     0      0      0   \n",
       "4  0.5  0.5     10.0  ...      0      0      0      0     0      0      0   \n",
       "\n",
       "   ms_4  ms_25  ms_10  \n",
       "0     0      0      0  \n",
       "1     0      0      0  \n",
       "2     0      0      0  \n",
       "3     0      0      0  \n",
       "4     0      0      0  \n",
       "\n",
       "[5 rows x 109 columns]"
      ]
     },
     "execution_count": 7,
     "metadata": {},
     "output_type": "execute_result"
    }
   ],
   "source": [
    "#double check\n",
    "dfx.head()"
   ]
  },
  {
   "cell_type": "code",
   "execution_count": 8,
   "id": "11196d79",
   "metadata": {},
   "outputs": [
    {
     "data": {
      "text/html": [
       "<div>\n",
       "<style scoped>\n",
       "    .dataframe tbody tr th:only-of-type {\n",
       "        vertical-align: middle;\n",
       "    }\n",
       "\n",
       "    .dataframe tbody tr th {\n",
       "        vertical-align: top;\n",
       "    }\n",
       "\n",
       "    .dataframe thead th {\n",
       "        text-align: right;\n",
       "    }\n",
       "</style>\n",
       "<table border=\"1\" class=\"dataframe\">\n",
       "  <thead>\n",
       "    <tr style=\"text-align: right;\">\n",
       "      <th></th>\n",
       "      <th>d1_spend</th>\n",
       "      <th>d3_spend</th>\n",
       "      <th>d7_spend</th>\n",
       "      <th>d14_spend</th>\n",
       "      <th>d30_spend</th>\n",
       "      <th>avg_p_1</th>\n",
       "      <th>count_p_1</th>\n",
       "      <th>p_4</th>\n",
       "      <th>p_5</th>\n",
       "      <th>avg_p_6</th>\n",
       "      <th>...</th>\n",
       "      <th>ms_12</th>\n",
       "      <th>ms_15</th>\n",
       "      <th>ms_16</th>\n",
       "      <th>ms_11</th>\n",
       "      <th>ms_5</th>\n",
       "      <th>ms_20</th>\n",
       "      <th>ms_26</th>\n",
       "      <th>ms_4</th>\n",
       "      <th>ms_25</th>\n",
       "      <th>ms_10</th>\n",
       "    </tr>\n",
       "  </thead>\n",
       "  <tbody>\n",
       "    <tr>\n",
       "      <th>count</th>\n",
       "      <td>292289.000000</td>\n",
       "      <td>292289.000000</td>\n",
       "      <td>292289.000000</td>\n",
       "      <td>292289.000000</td>\n",
       "      <td>292289.000000</td>\n",
       "      <td>292289.000000</td>\n",
       "      <td>292289.000000</td>\n",
       "      <td>292289.000000</td>\n",
       "      <td>292289.000000</td>\n",
       "      <td>292289.000000</td>\n",
       "      <td>...</td>\n",
       "      <td>292289.000000</td>\n",
       "      <td>292289.000000</td>\n",
       "      <td>292289.000000</td>\n",
       "      <td>292289.000000</td>\n",
       "      <td>292289.000000</td>\n",
       "      <td>292289.000000</td>\n",
       "      <td>292289.000000</td>\n",
       "      <td>292289.000000</td>\n",
       "      <td>292289.000000</td>\n",
       "      <td>292289.000000</td>\n",
       "    </tr>\n",
       "    <tr>\n",
       "      <th>mean</th>\n",
       "      <td>6.543372</td>\n",
       "      <td>15.923689</td>\n",
       "      <td>33.017982</td>\n",
       "      <td>58.000325</td>\n",
       "      <td>109.085933</td>\n",
       "      <td>45.860937</td>\n",
       "      <td>42.111807</td>\n",
       "      <td>0.360935</td>\n",
       "      <td>0.307539</td>\n",
       "      <td>8.439453</td>\n",
       "      <td>...</td>\n",
       "      <td>0.012683</td>\n",
       "      <td>0.011588</td>\n",
       "      <td>0.008228</td>\n",
       "      <td>0.008221</td>\n",
       "      <td>0.006114</td>\n",
       "      <td>0.006083</td>\n",
       "      <td>0.005382</td>\n",
       "      <td>0.004136</td>\n",
       "      <td>0.003921</td>\n",
       "      <td>0.003572</td>\n",
       "    </tr>\n",
       "    <tr>\n",
       "      <th>std</th>\n",
       "      <td>100.829279</td>\n",
       "      <td>279.182672</td>\n",
       "      <td>655.713602</td>\n",
       "      <td>1218.293711</td>\n",
       "      <td>2416.610713</td>\n",
       "      <td>28.013999</td>\n",
       "      <td>215.576888</td>\n",
       "      <td>0.280378</td>\n",
       "      <td>0.250019</td>\n",
       "      <td>2.492164</td>\n",
       "      <td>...</td>\n",
       "      <td>0.111901</td>\n",
       "      <td>0.107022</td>\n",
       "      <td>0.090335</td>\n",
       "      <td>0.090298</td>\n",
       "      <td>0.077952</td>\n",
       "      <td>0.077756</td>\n",
       "      <td>0.073162</td>\n",
       "      <td>0.064181</td>\n",
       "      <td>0.062493</td>\n",
       "      <td>0.059658</td>\n",
       "    </tr>\n",
       "    <tr>\n",
       "      <th>min</th>\n",
       "      <td>0.000000</td>\n",
       "      <td>0.000000</td>\n",
       "      <td>0.000000</td>\n",
       "      <td>0.000000</td>\n",
       "      <td>0.000000</td>\n",
       "      <td>0.000000</td>\n",
       "      <td>0.000000</td>\n",
       "      <td>0.000000</td>\n",
       "      <td>0.000000</td>\n",
       "      <td>0.000000</td>\n",
       "      <td>...</td>\n",
       "      <td>0.000000</td>\n",
       "      <td>0.000000</td>\n",
       "      <td>0.000000</td>\n",
       "      <td>0.000000</td>\n",
       "      <td>0.000000</td>\n",
       "      <td>0.000000</td>\n",
       "      <td>0.000000</td>\n",
       "      <td>0.000000</td>\n",
       "      <td>0.000000</td>\n",
       "      <td>0.000000</td>\n",
       "    </tr>\n",
       "    <tr>\n",
       "      <th>25%</th>\n",
       "      <td>0.012000</td>\n",
       "      <td>0.020000</td>\n",
       "      <td>0.026970</td>\n",
       "      <td>0.033755</td>\n",
       "      <td>0.040000</td>\n",
       "      <td>29.065388</td>\n",
       "      <td>1.000000</td>\n",
       "      <td>0.000000</td>\n",
       "      <td>0.000000</td>\n",
       "      <td>5.000000</td>\n",
       "      <td>...</td>\n",
       "      <td>0.000000</td>\n",
       "      <td>0.000000</td>\n",
       "      <td>0.000000</td>\n",
       "      <td>0.000000</td>\n",
       "      <td>0.000000</td>\n",
       "      <td>0.000000</td>\n",
       "      <td>0.000000</td>\n",
       "      <td>0.000000</td>\n",
       "      <td>0.000000</td>\n",
       "      <td>0.000000</td>\n",
       "    </tr>\n",
       "    <tr>\n",
       "      <th>50%</th>\n",
       "      <td>0.077576</td>\n",
       "      <td>0.096099</td>\n",
       "      <td>0.099567</td>\n",
       "      <td>0.103071</td>\n",
       "      <td>0.108182</td>\n",
       "      <td>50.000000</td>\n",
       "      <td>4.000000</td>\n",
       "      <td>0.500000</td>\n",
       "      <td>0.333333</td>\n",
       "      <td>10.000000</td>\n",
       "      <td>...</td>\n",
       "      <td>0.000000</td>\n",
       "      <td>0.000000</td>\n",
       "      <td>0.000000</td>\n",
       "      <td>0.000000</td>\n",
       "      <td>0.000000</td>\n",
       "      <td>0.000000</td>\n",
       "      <td>0.000000</td>\n",
       "      <td>0.000000</td>\n",
       "      <td>0.000000</td>\n",
       "      <td>0.000000</td>\n",
       "    </tr>\n",
       "    <tr>\n",
       "      <th>75%</th>\n",
       "      <td>0.313078</td>\n",
       "      <td>0.417003</td>\n",
       "      <td>0.494292</td>\n",
       "      <td>0.552013</td>\n",
       "      <td>0.611727</td>\n",
       "      <td>64.333333</td>\n",
       "      <td>12.000000</td>\n",
       "      <td>0.500000</td>\n",
       "      <td>0.500000</td>\n",
       "      <td>10.000000</td>\n",
       "      <td>...</td>\n",
       "      <td>0.000000</td>\n",
       "      <td>0.000000</td>\n",
       "      <td>0.000000</td>\n",
       "      <td>0.000000</td>\n",
       "      <td>0.000000</td>\n",
       "      <td>0.000000</td>\n",
       "      <td>0.000000</td>\n",
       "      <td>0.000000</td>\n",
       "      <td>0.000000</td>\n",
       "      <td>0.000000</td>\n",
       "    </tr>\n",
       "    <tr>\n",
       "      <th>max</th>\n",
       "      <td>12190.426422</td>\n",
       "      <td>33917.771254</td>\n",
       "      <td>83448.123455</td>\n",
       "      <td>191061.871159</td>\n",
       "      <td>457674.703490</td>\n",
       "      <td>237.400360</td>\n",
       "      <td>8825.000000</td>\n",
       "      <td>1.000000</td>\n",
       "      <td>1.000000</td>\n",
       "      <td>10.000000</td>\n",
       "      <td>...</td>\n",
       "      <td>1.000000</td>\n",
       "      <td>1.000000</td>\n",
       "      <td>1.000000</td>\n",
       "      <td>1.000000</td>\n",
       "      <td>1.000000</td>\n",
       "      <td>1.000000</td>\n",
       "      <td>1.000000</td>\n",
       "      <td>1.000000</td>\n",
       "      <td>1.000000</td>\n",
       "      <td>1.000000</td>\n",
       "    </tr>\n",
       "  </tbody>\n",
       "</table>\n",
       "<p>8 rows × 109 columns</p>\n",
       "</div>"
      ],
      "text/plain": [
       "            d1_spend       d3_spend       d7_spend      d14_spend  \\\n",
       "count  292289.000000  292289.000000  292289.000000  292289.000000   \n",
       "mean        6.543372      15.923689      33.017982      58.000325   \n",
       "std       100.829279     279.182672     655.713602    1218.293711   \n",
       "min         0.000000       0.000000       0.000000       0.000000   \n",
       "25%         0.012000       0.020000       0.026970       0.033755   \n",
       "50%         0.077576       0.096099       0.099567       0.103071   \n",
       "75%         0.313078       0.417003       0.494292       0.552013   \n",
       "max     12190.426422   33917.771254   83448.123455  191061.871159   \n",
       "\n",
       "           d30_spend        avg_p_1      count_p_1            p_4  \\\n",
       "count  292289.000000  292289.000000  292289.000000  292289.000000   \n",
       "mean      109.085933      45.860937      42.111807       0.360935   \n",
       "std      2416.610713      28.013999     215.576888       0.280378   \n",
       "min         0.000000       0.000000       0.000000       0.000000   \n",
       "25%         0.040000      29.065388       1.000000       0.000000   \n",
       "50%         0.108182      50.000000       4.000000       0.500000   \n",
       "75%         0.611727      64.333333      12.000000       0.500000   \n",
       "max    457674.703490     237.400360    8825.000000       1.000000   \n",
       "\n",
       "                 p_5        avg_p_6  ...          ms_12          ms_15  \\\n",
       "count  292289.000000  292289.000000  ...  292289.000000  292289.000000   \n",
       "mean        0.307539       8.439453  ...       0.012683       0.011588   \n",
       "std         0.250019       2.492164  ...       0.111901       0.107022   \n",
       "min         0.000000       0.000000  ...       0.000000       0.000000   \n",
       "25%         0.000000       5.000000  ...       0.000000       0.000000   \n",
       "50%         0.333333      10.000000  ...       0.000000       0.000000   \n",
       "75%         0.500000      10.000000  ...       0.000000       0.000000   \n",
       "max         1.000000      10.000000  ...       1.000000       1.000000   \n",
       "\n",
       "               ms_16          ms_11           ms_5          ms_20  \\\n",
       "count  292289.000000  292289.000000  292289.000000  292289.000000   \n",
       "mean        0.008228       0.008221       0.006114       0.006083   \n",
       "std         0.090335       0.090298       0.077952       0.077756   \n",
       "min         0.000000       0.000000       0.000000       0.000000   \n",
       "25%         0.000000       0.000000       0.000000       0.000000   \n",
       "50%         0.000000       0.000000       0.000000       0.000000   \n",
       "75%         0.000000       0.000000       0.000000       0.000000   \n",
       "max         1.000000       1.000000       1.000000       1.000000   \n",
       "\n",
       "               ms_26           ms_4          ms_25          ms_10  \n",
       "count  292289.000000  292289.000000  292289.000000  292289.000000  \n",
       "mean        0.005382       0.004136       0.003921       0.003572  \n",
       "std         0.073162       0.064181       0.062493       0.059658  \n",
       "min         0.000000       0.000000       0.000000       0.000000  \n",
       "25%         0.000000       0.000000       0.000000       0.000000  \n",
       "50%         0.000000       0.000000       0.000000       0.000000  \n",
       "75%         0.000000       0.000000       0.000000       0.000000  \n",
       "max         1.000000       1.000000       1.000000       1.000000  \n",
       "\n",
       "[8 rows x 109 columns]"
      ]
     },
     "execution_count": 8,
     "metadata": {},
     "output_type": "execute_result"
    }
   ],
   "source": [
    "#descriptive statistics\n",
    "dfx.describe()"
   ]
  },
  {
   "cell_type": "code",
   "execution_count": 9,
   "id": "f135e13b",
   "metadata": {},
   "outputs": [],
   "source": [
    "#create the new columns: day30 - day14 named as dif\n",
    "dfx['dif'] = dfx['d30_spend'] - dfx['d14_spend']"
   ]
  },
  {
   "cell_type": "code",
   "execution_count": 10,
   "id": "671118b6",
   "metadata": {},
   "outputs": [],
   "source": [
    "#creat a new colomns : make dif a 0,1 value\n",
    "dfx['dif_dummy'] = np.where(dfx['dif'] != 0, 1, dfx['dif'])"
   ]
  },
  {
   "cell_type": "code",
   "execution_count": 11,
   "id": "e8e4852e",
   "metadata": {},
   "outputs": [],
   "source": [
    "#creat the dataset for model\n",
    "dfy_1 = dfx.drop(columns = ['dif'])\n",
    "dfy_2 = dfy_1.drop(columns = ['dif_dummy'])\n",
    "dfy_3 = dfy_2.drop(columns = ['d30_spend'])"
   ]
  },
  {
   "cell_type": "markdown",
   "id": "ec8181d8",
   "metadata": {},
   "source": [
    "## CLASSIFICATION : Building Decision Tree Model "
   ]
  },
  {
   "cell_type": "markdown",
   "id": "54c8d3fb",
   "metadata": {},
   "source": [
    "### Splitting Data"
   ]
  },
  {
   "cell_type": "code",
   "execution_count": 58,
   "id": "d8373b23",
   "metadata": {},
   "outputs": [],
   "source": [
    "# define X and y\n",
    "X = dfy_3\n",
    "y = dfx.dif_dummy"
   ]
  },
  {
   "cell_type": "code",
   "execution_count": 59,
   "id": "39838ce0",
   "metadata": {},
   "outputs": [],
   "source": [
    "# Using Skicit-learn to split data into training and testing sets\n",
    "from sklearn.model_selection import train_test_split\n",
    "# Split the data into training and testing sets\n",
    "X_train, X_test, y_train, y_test = train_test_split(X, y, test_size = 0.20, random_state = 42)"
   ]
  },
  {
   "cell_type": "code",
   "execution_count": 60,
   "id": "3418a180",
   "metadata": {},
   "outputs": [
    {
     "name": "stdout",
     "output_type": "stream",
     "text": [
      "Training Features Shape: (233831, 108)\n",
      "Training Labels Shape: (233831,)\n",
      "Testing Features Shape: (58458, 108)\n",
      "Testing Labels Shape: (58458,)\n"
     ]
    }
   ],
   "source": [
    "#shape of train and test data\n",
    "print('Training Features Shape:', X_train.shape)\n",
    "print('Training Labels Shape:', y_train.shape)\n",
    "print('Testing Features Shape:', X_test.shape)\n",
    "print('Testing Labels Shape:', y_test.shape)"
   ]
  },
  {
   "cell_type": "markdown",
   "id": "85c8d7f1",
   "metadata": {},
   "source": [
    "### Building Decision Tree Model"
   ]
  },
  {
   "cell_type": "code",
   "execution_count": 61,
   "id": "996acab7",
   "metadata": {},
   "outputs": [],
   "source": [
    "# Create Decision Tree classifer object\n",
    "clf = DecisionTreeClassifier(max_depth = 3)\n",
    "\n",
    "# Train Decision Tree Classifer\n",
    "clf = clf.fit(X_train,y_train)\n",
    "\n",
    "#Predict the response for test dataset\n",
    "y_pred = clf.predict(X_test)"
   ]
  },
  {
   "cell_type": "markdown",
   "id": "d97cee5a",
   "metadata": {},
   "source": [
    "### Evaluate the model"
   ]
  },
  {
   "cell_type": "code",
   "execution_count": 16,
   "id": "df229d6e",
   "metadata": {},
   "outputs": [
    {
     "name": "stdout",
     "output_type": "stream",
     "text": [
      "Accuracy: 0.9527010845393273\n"
     ]
    }
   ],
   "source": [
    "# Model Accuracy\n",
    "print(\"Accuracy:\",metrics.accuracy_score(y_test, y_pred))"
   ]
  },
  {
   "cell_type": "code",
   "execution_count": 17,
   "id": "5abcbb0d",
   "metadata": {},
   "outputs": [],
   "source": [
    "from sklearn.metrics import confusion_matrix\n",
    "import matplotlib.pyplot as plt"
   ]
  },
  {
   "cell_type": "code",
   "execution_count": 18,
   "id": "6079d227",
   "metadata": {},
   "outputs": [
    {
     "data": {
      "image/png": "[encoded data removed]",
      "text/plain": [
       "<Figure size 500x500 with 1 Axes>"
      ]
     },
     "metadata": {},
     "output_type": "display_data"
    }
   ],
   "source": [
    "# Print the confusion matrix using Matplotlib\n",
    "\n",
    "conf_matrix = confusion_matrix(y_true=y_test, y_pred=y_pred)\n",
    "\n",
    "fig, ax = plt.subplots(figsize=(5, 5))\n",
    "ax.matshow(conf_matrix, cmap=plt.cm.Oranges, alpha=0.3)\n",
    "for i in range(conf_matrix.shape[0]):\n",
    "    for j in range(conf_matrix.shape[1]):\n",
    "        ax.text(x=j, y=i,s=conf_matrix[i, j], va='center', ha='center', size='xx-large')\n",
    " \n",
    "plt.xlabel('Predictions', fontsize=18)\n",
    "plt.ylabel('Actuals', fontsize=18)\n",
    "plt.title('Confusion Matrix', fontsize=18)\n",
    "plt.show()\n"
   ]
  },
  {
   "cell_type": "code",
   "execution_count": 19,
   "id": "6b63c688",
   "metadata": {},
   "outputs": [],
   "source": [
    "\n",
    "from sklearn.metrics import precision_score\n",
    "from sklearn.metrics import recall_score"
   ]
  },
  {
   "cell_type": "code",
   "execution_count": 20,
   "id": "05d53782",
   "metadata": {},
   "outputs": [
    {
     "name": "stdout",
     "output_type": "stream",
     "text": [
      "Precision: 0.786\n"
     ]
    }
   ],
   "source": [
    "#precision\n",
    "print('Precision: %.3f' % precision_score(y_test, y_pred))\n"
   ]
  },
  {
   "cell_type": "code",
   "execution_count": 21,
   "id": "e27e3ed0",
   "metadata": {},
   "outputs": [
    {
     "name": "stdout",
     "output_type": "stream",
     "text": [
      "Recall: 0.606\n"
     ]
    }
   ],
   "source": [
    "#Recall\n",
    "print('Recall: %.3f' % recall_score(y_test, y_pred))\n"
   ]
  },
  {
   "cell_type": "code",
   "execution_count": 22,
   "id": "213176fa",
   "metadata": {},
   "outputs": [],
   "source": [
    "from sklearn.metrics import mean_absolute_error, mean_squared_error"
   ]
  },
  {
   "cell_type": "code",
   "execution_count": 23,
   "id": "2d0aeb00",
   "metadata": {},
   "outputs": [
    {
     "name": "stdout",
     "output_type": "stream",
     "text": [
      "0.665441134751773\n"
     ]
    }
   ],
   "source": [
    "# F1-score\n",
    "F1 = 2 * (0.872 * 0.538) / (0.872 + 0.538)\n",
    "print(F1)"
   ]
  },
  {
   "cell_type": "markdown",
   "id": "00267a7a",
   "metadata": {},
   "source": [
    "### Visualizing Decision Trees"
   ]
  },
  {
   "cell_type": "code",
   "execution_count": 24,
   "id": "00f17797",
   "metadata": {},
   "outputs": [
    {
     "name": "stdout",
     "output_type": "stream",
     "text": [
      "Collecting graphviz\n",
      "  Using cached graphviz-0.20.1-py3-none-any.whl (47 kB)\n",
      "Installing collected packages: graphviz\n",
      "Successfully installed graphviz-0.20.1\n",
      "Collecting pydotplus\n",
      "  Using cached pydotplus-2.0.2-py3-none-any.whl\n",
      "Requirement already satisfied: pyparsing>=2.0.1 in ./opt/anaconda3/lib/python3.9/site-packages (from pydotplus) (3.0.9)\n",
      "Installing collected packages: pydotplus\n",
      "Successfully installed pydotplus-2.0.2\n"
     ]
    }
   ],
   "source": [
    "!pip install graphviz\n",
    "!pip install pydotplus"
   ]
  },
  {
   "cell_type": "code",
   "execution_count": 25,
   "id": "3aca07e7",
   "metadata": {},
   "outputs": [],
   "source": [
    "import six\n",
    "import sys\n",
    "sys.modules['sklearn.externals.six'] = six"
   ]
  },
  {
   "cell_type": "code",
   "execution_count": 26,
   "id": "df7e87bb",
   "metadata": {},
   "outputs": [],
   "source": [
    "from sklearn.tree import export_graphviz\n",
    "from IPython.display import Image  \n",
    "import pydotplus"
   ]
  },
  {
   "cell_type": "code",
   "execution_count": 27,
   "id": "5149ef6c",
   "metadata": {},
   "outputs": [
    {
     "name": "stdout",
     "output_type": "stream",
     "text": [
      "Collecting dtreeviz\n",
      "  Downloading dtreeviz-1.4.1-py3-none-any.whl (72 kB)\n",
      "\u001b[2K     \u001b[90m━━━━━━━━━━━━━━━━━━━━━━━━━━━━━━━━━━━━━━━━\u001b[0m \u001b[32m72.5/72.5 kB\u001b[0m \u001b[31m1.2 MB/s\u001b[0m eta \u001b[36m0:00:00\u001b[0m00:01\u001b[0m\n",
      "\u001b[?25hRequirement already satisfied: scikit-learn in ./opt/anaconda3/lib/python3.9/site-packages (from dtreeviz) (1.0.2)\n",
      "Collecting colour\n",
      "  Using cached colour-0.1.5-py2.py3-none-any.whl (23 kB)\n",
      "Requirement already satisfied: matplotlib in ./opt/anaconda3/lib/python3.9/site-packages (from dtreeviz) (3.5.2)\n",
      "Requirement already satisfied: pandas in ./opt/anaconda3/lib/python3.9/site-packages (from dtreeviz) (1.5.2)\n",
      "Requirement already satisfied: pytest in ./opt/anaconda3/lib/python3.9/site-packages (from dtreeviz) (7.1.2)\n",
      "Requirement already satisfied: graphviz>=0.9 in ./opt/anaconda3/lib/python3.9/site-packages (from dtreeviz) (0.20.1)\n",
      "Requirement already satisfied: numpy in ./opt/anaconda3/lib/python3.9/site-packages (from dtreeviz) (1.21.5)\n",
      "Requirement already satisfied: python-dateutil>=2.7 in ./opt/anaconda3/lib/python3.9/site-packages (from matplotlib->dtreeviz) (2.8.2)\n",
      "Requirement already satisfied: cycler>=0.10 in ./opt/anaconda3/lib/python3.9/site-packages (from matplotlib->dtreeviz) (0.11.0)\n",
      "Requirement already satisfied: fonttools>=4.22.0 in ./opt/anaconda3/lib/python3.9/site-packages (from matplotlib->dtreeviz) (4.25.0)\n",
      "Requirement already satisfied: packaging>=20.0 in ./opt/anaconda3/lib/python3.9/site-packages (from matplotlib->dtreeviz) (21.3)\n",
      "Requirement already satisfied: pyparsing>=2.2.1 in ./opt/anaconda3/lib/python3.9/site-packages (from matplotlib->dtreeviz) (3.0.9)\n",
      "Requirement already satisfied: pillow>=6.2.0 in ./opt/anaconda3/lib/python3.9/site-packages (from matplotlib->dtreeviz) (9.2.0)\n",
      "Requirement already satisfied: kiwisolver>=1.0.1 in ./opt/anaconda3/lib/python3.9/site-packages (from matplotlib->dtreeviz) (1.4.2)\n",
      "Requirement already satisfied: pytz>=2020.1 in ./opt/anaconda3/lib/python3.9/site-packages (from pandas->dtreeviz) (2022.1)\n",
      "Requirement already satisfied: attrs>=19.2.0 in ./opt/anaconda3/lib/python3.9/site-packages (from pytest->dtreeviz) (21.4.0)\n",
      "Requirement already satisfied: iniconfig in ./opt/anaconda3/lib/python3.9/site-packages (from pytest->dtreeviz) (1.1.1)\n",
      "Requirement already satisfied: pluggy<2.0,>=0.12 in ./opt/anaconda3/lib/python3.9/site-packages (from pytest->dtreeviz) (1.0.0)\n",
      "Requirement already satisfied: py>=1.8.2 in ./opt/anaconda3/lib/python3.9/site-packages (from pytest->dtreeviz) (1.11.0)\n",
      "Requirement already satisfied: tomli>=1.0.0 in ./opt/anaconda3/lib/python3.9/site-packages (from pytest->dtreeviz) (2.0.1)\n",
      "Requirement already satisfied: threadpoolctl>=2.0.0 in ./opt/anaconda3/lib/python3.9/site-packages (from scikit-learn->dtreeviz) (2.2.0)\n",
      "Requirement already satisfied: joblib>=0.11 in ./opt/anaconda3/lib/python3.9/site-packages (from scikit-learn->dtreeviz) (1.1.0)\n",
      "Requirement already satisfied: scipy>=1.1.0 in ./opt/anaconda3/lib/python3.9/site-packages (from scikit-learn->dtreeviz) (1.9.1)\n",
      "Requirement already satisfied: six>=1.5 in ./opt/anaconda3/lib/python3.9/site-packages (from python-dateutil>=2.7->matplotlib->dtreeviz) (1.16.0)\n",
      "Installing collected packages: colour, dtreeviz\n",
      "Successfully installed colour-0.1.5 dtreeviz-1.4.1\n"
     ]
    }
   ],
   "source": [
    "from sklearn.externals.six import StringIO\n",
    "!pip install dtreeviz\n",
    "from dtreeviz.trees import dtreeviz\n"
   ]
  },
  {
   "cell_type": "markdown",
   "id": "8e3a1cca",
   "metadata": {},
   "source": [
    "#### Print Text Representation"
   ]
  },
  {
   "cell_type": "code",
   "execution_count": 28,
   "id": "988a09f7",
   "metadata": {},
   "outputs": [
    {
     "name": "stdout",
     "output_type": "stream",
     "text": [
      "|--- feature_11 <= 0.01\n",
      "|   |--- feature_34 <= 0.50\n",
      "|   |   |--- feature_76 <= 0.50\n",
      "|   |   |   |--- class: 1.0\n",
      "|   |   |--- feature_76 >  0.50\n",
      "|   |   |   |--- class: 1.0\n",
      "|   |--- feature_34 >  0.50\n",
      "|   |   |--- feature_24 <= 29.50\n",
      "|   |   |   |--- class: 1.0\n",
      "|   |   |--- feature_24 >  29.50\n",
      "|   |   |   |--- class: 0.0\n",
      "|--- feature_11 >  0.01\n",
      "|   |--- feature_16 <= 197.50\n",
      "|   |   |--- feature_13 <= 48.50\n",
      "|   |   |   |--- class: 0.0\n",
      "|   |   |--- feature_13 >  48.50\n",
      "|   |   |   |--- class: 0.0\n",
      "|   |--- feature_16 >  197.50\n",
      "|   |   |--- feature_24 <= 129.50\n",
      "|   |   |   |--- class: 1.0\n",
      "|   |   |--- feature_24 >  129.50\n",
      "|   |   |   |--- class: 1.0\n",
      "\n"
     ]
    }
   ],
   "source": [
    "text_representation = tree.export_text(clf)\n",
    "print(text_representation)"
   ]
  },
  {
   "cell_type": "code",
   "execution_count": 29,
   "id": "053a3423",
   "metadata": {},
   "outputs": [],
   "source": [
    "#save above result\n",
    "with open(\"decistion_tree.log\", \"w\") as fout:\n",
    "    fout.write(text_representation)"
   ]
  },
  {
   "cell_type": "code",
   "execution_count": 30,
   "id": "a2f1b767",
   "metadata": {},
   "outputs": [
    {
     "data": {
      "text/plain": [
       "[Text(0.5, 0.875, 'X[11] <= 0.01\\ngini = 0.153\\nsamples = 233831\\nvalue = [214347, 19484]\\nclass = y[0]'),\n",
       " Text(0.25, 0.625, 'X[34] <= 0.5\\ngini = 0.003\\nsamples = 4786\\nvalue = [7, 4779]\\nclass = y[1]'),\n",
       " Text(0.125, 0.375, 'X[76] <= 0.5\\ngini = 0.003\\nsamples = 4772\\nvalue = [6, 4766]\\nclass = y[1]'),\n",
       " Text(0.0625, 0.125, 'gini = 0.002\\nsamples = 4733\\nvalue = [5, 4728]\\nclass = y[1]'),\n",
       " Text(0.1875, 0.125, 'gini = 0.05\\nsamples = 39\\nvalue = [1, 38]\\nclass = y[1]'),\n",
       " Text(0.375, 0.375, 'X[24] <= 29.5\\ngini = 0.133\\nsamples = 14\\nvalue = [1, 13]\\nclass = y[1]'),\n",
       " Text(0.3125, 0.125, 'gini = 0.0\\nsamples = 13\\nvalue = [0, 13]\\nclass = y[1]'),\n",
       " Text(0.4375, 0.125, 'gini = 0.0\\nsamples = 1\\nvalue = [1, 0]\\nclass = y[0]'),\n",
       " Text(0.75, 0.625, 'X[16] <= 197.5\\ngini = 0.12\\nsamples = 229045\\nvalue = [214340, 14705]\\nclass = y[0]'),\n",
       " Text(0.625, 0.375, 'X[13] <= 48.5\\ngini = 0.07\\nsamples = 219041\\nvalue = [211132, 7909]\\nclass = y[0]'),\n",
       " Text(0.5625, 0.125, 'gini = 0.047\\nsamples = 204308\\nvalue = [199437, 4871]\\nclass = y[0]'),\n",
       " Text(0.6875, 0.125, 'gini = 0.327\\nsamples = 14733\\nvalue = [11695, 3038]\\nclass = y[0]'),\n",
       " Text(0.875, 0.375, 'X[24] <= 129.5\\ngini = 0.436\\nsamples = 10004\\nvalue = [3208, 6796]\\nclass = y[1]'),\n",
       " Text(0.8125, 0.125, 'gini = 0.5\\nsamples = 4709\\nvalue = [2299, 2410]\\nclass = y[1]'),\n",
       " Text(0.9375, 0.125, 'gini = 0.284\\nsamples = 5295\\nvalue = [909, 4386]\\nclass = y[1]')]"
      ]
     },
     "execution_count": 30,
     "metadata": {},
     "output_type": "execute_result"
    },
    {
     "data": {
      "image/png": "[encoded data removed]",
      "text/plain": [
       "<Figure size 640x480 with 1 Axes>"
      ]
     },
     "metadata": {},
     "output_type": "display_data"
    }
   ],
   "source": [
    "tree.plot_tree(clf, class_names=True)"
   ]
  },
  {
   "cell_type": "code",
   "execution_count": 31,
   "id": "cb2007ff",
   "metadata": {},
   "outputs": [],
   "source": [
    "from sklearn.model_selection import cross_val_score\n",
    "from sklearn.metrics import classification_report, confusion_matrix"
   ]
  },
  {
   "cell_type": "code",
   "execution_count": 32,
   "id": "c1318024",
   "metadata": {},
   "outputs": [],
   "source": [
    "import matplotlib.pyplot as plt "
   ]
  },
  {
   "cell_type": "code",
   "execution_count": 33,
   "id": "580d935b",
   "metadata": {},
   "outputs": [],
   "source": [
    "from sklearn.metrics import roc_curve\n",
    "from sklearn.metrics import auc\n",
    "from sklearn.metrics import roc_auc_score"
   ]
  },
  {
   "cell_type": "code",
   "execution_count": 34,
   "id": "7811c2fe",
   "metadata": {},
   "outputs": [],
   "source": [
    "# predict probabilities\n",
    "pred_prob1 = clf.predict_proba(X_test)\n",
    "fpr1, tpr1, thresh1 = roc_curve(y_test, pred_prob1[:,1], pos_label=1)\n",
    "\n",
    "\n",
    "\n",
    "# roc curve for tpr = fpr\n",
    "random_probs = [0 for i in range(len(y_test))]\n",
    "p_fpr, p_tpr, _ = roc_curve(y_test, random_probs, pos_label=1)"
   ]
  },
  {
   "cell_type": "code",
   "execution_count": 35,
   "id": "c352d2bb",
   "metadata": {},
   "outputs": [
    {
     "name": "stdout",
     "output_type": "stream",
     "text": [
      "0.8604591436037663\n"
     ]
    }
   ],
   "source": [
    "# auc scores\n",
    "auc_score1 = roc_auc_score(y_test, pred_prob1[:,1])\n",
    "\n",
    "print(auc_score1)"
   ]
  },
  {
   "cell_type": "code",
   "execution_count": 36,
   "id": "423f0eb8",
   "metadata": {},
   "outputs": [
    {
     "data": {
      "image/png": "[encoded data removed]",
      "text/plain": [
       "<Figure size 640x480 with 1 Axes>"
      ]
     },
     "metadata": {},
     "output_type": "display_data"
    }
   ],
   "source": [
    "# plot roc curves\n",
    "plt.plot(fpr1, tpr1, marker='.',color='orange', label='Decision Tree Classification')\n",
    "plt.plot(p_fpr, p_tpr, linestyle='--', color='blue')\n",
    "# title\n",
    "plt.title('ROC curve')\n",
    "# x label\n",
    "plt.xlabel('False Positive Rate')\n",
    "# y label\n",
    "plt.ylabel('True Positive rate')\n",
    "\n",
    "\n",
    "\n",
    "plt.legend(loc='best')\n",
    "plt.savefig('ROC',dpi=300)\n",
    "plt.show();"
   ]
  },
  {
   "cell_type": "markdown",
   "id": "e248aab2",
   "metadata": {},
   "source": [
    "## Random Forest Classification"
   ]
  },
  {
   "cell_type": "code",
   "execution_count": 39,
   "id": "6e39441e",
   "metadata": {},
   "outputs": [],
   "source": [
    "X = dfy_3\n",
    "y = dfx.dif_dummy"
   ]
  },
  {
   "cell_type": "code",
   "execution_count": 40,
   "id": "57f22703",
   "metadata": {},
   "outputs": [],
   "source": [
    "# Using Skicit-learn to split data into training and testing sets\n",
    "from sklearn.model_selection import train_test_split\n",
    "# Split the data into training and testing sets\n",
    "x2_train, x2_test, y2_train, y2_test = train_test_split(X, y, test_size = 0.20, random_state = 42)"
   ]
  },
  {
   "cell_type": "code",
   "execution_count": 41,
   "id": "4a1ebffb",
   "metadata": {},
   "outputs": [],
   "source": [
    "#Import Random Forest Model\n",
    "from sklearn.ensemble import RandomForestClassifier\n",
    "\n",
    "#Create a Gaussian Classifier\n",
    "rfc = RandomForestClassifier()\n",
    "\n",
    "#Train the model using the training sets y_pred=clf.predict(X_test)\n",
    "rfc.fit(x2_train, y2_train)\n",
    "\n",
    "rfc_predict = rfc.predict(x2_test)"
   ]
  },
  {
   "cell_type": "code",
   "execution_count": 42,
   "id": "f8dbbcde",
   "metadata": {},
   "outputs": [
    {
     "data": {
      "text/plain": [
       "0.9578500803996032"
      ]
     },
     "execution_count": 42,
     "metadata": {},
     "output_type": "execute_result"
    }
   ],
   "source": [
    "\n",
    "from sklearn.metrics import accuracy_score\n",
    "accuracy_score(y_test, rfc_predict)\n"
   ]
  },
  {
   "cell_type": "code",
   "execution_count": 43,
   "id": "6b5c0ffc",
   "metadata": {},
   "outputs": [
    {
     "data": {
      "text/plain": [
       "array([[53011,   502],\n",
       "       [ 1962,  2983]])"
      ]
     },
     "execution_count": 43,
     "metadata": {},
     "output_type": "execute_result"
    }
   ],
   "source": [
    "from sklearn.metrics import accuracy_score, confusion_matrix, classification_report\n",
    "confusion_matrix(y_test, rfc_predict)"
   ]
  },
  {
   "cell_type": "code",
   "execution_count": 44,
   "id": "610adee0",
   "metadata": {},
   "outputs": [
    {
     "data": {
      "text/plain": [
       "0.8559540889526542"
      ]
     },
     "execution_count": 44,
     "metadata": {},
     "output_type": "execute_result"
    }
   ],
   "source": [
    "metrics.precision_score(y_test, rfc_predict)"
   ]
  },
  {
   "cell_type": "code",
   "execution_count": 45,
   "id": "0d18b624",
   "metadata": {},
   "outputs": [
    {
     "data": {
      "text/plain": [
       "0.6032355915065722"
      ]
     },
     "execution_count": 45,
     "metadata": {},
     "output_type": "execute_result"
    }
   ],
   "source": [
    "metrics.recall_score(y_test, rfc_predict)"
   ]
  },
  {
   "cell_type": "code",
   "execution_count": 47,
   "id": "e33356d7",
   "metadata": {},
   "outputs": [],
   "source": [
    "prediction_2 = x2_test\n",
    "result_2 = pd.DataFrame(rfc_predict)\n",
    "prediction_update_2 = np.append(prediction_2, result_2, 1)\n",
    "\n",
    "df2_2 = pd.DataFrame(prediction_update_2)\n",
    "df2_2.to_csv('1212_rf.csv')"
   ]
  },
  {
   "cell_type": "code",
   "execution_count": 48,
   "id": "f5118654",
   "metadata": {},
   "outputs": [],
   "source": [
    "rfc_cv_score = cross_val_score(rfc, X, y, cv=10, scoring = 'roc_auc')"
   ]
  },
  {
   "cell_type": "code",
   "execution_count": 50,
   "id": "952977df",
   "metadata": {
    "scrolled": true
   },
   "outputs": [
    {
     "name": "stdout",
     "output_type": "stream",
     "text": [
      "=== Confusion Matrix ===\n",
      "[[53011   502]\n",
      " [ 1962  2983]]\n",
      "\n",
      "\n",
      "=== Classification Report ===\n",
      "              precision    recall  f1-score   support\n",
      "\n",
      "         0.0       0.96      0.99      0.98     53513\n",
      "         1.0       0.86      0.60      0.71      4945\n",
      "\n",
      "    accuracy                           0.96     58458\n",
      "   macro avg       0.91      0.80      0.84     58458\n",
      "weighted avg       0.96      0.96      0.95     58458\n",
      "\n",
      "\n",
      "\n",
      "=== All AUC Scores ===\n",
      "[0.92888209 0.93340048 0.92912242 0.9328254  0.93395563 0.93538179\n",
      " 0.93056164 0.93196114 0.92815747 0.93133104]\n",
      "\n",
      "\n",
      "=== Mean AUC Score ===\n",
      "Mean AUC Score - Random Forest:  0.9315579100043255\n"
     ]
    }
   ],
   "source": [
    "#The roc_auc scoring used in the cross-validation model shows the area under the ROC curve.\n",
    "print(\"=== Confusion Matrix ===\")\n",
    "print(confusion_matrix(y_test, rfc_predict))\n",
    "print('\\n')\n",
    "print(\"=== Classification Report ===\")\n",
    "print(classification_report(y_test, rfc_predict))\n",
    "print('\\n')\n",
    "print(\"=== All AUC Scores ===\")\n",
    "print(rfc_cv_score)\n",
    "print('\\n')\n",
    "print(\"=== Mean AUC Score ===\")\n",
    "print(\"Mean AUC Score - Random Forest: \", rfc_cv_score.mean())\n"
   ]
  },
  {
   "cell_type": "code",
   "execution_count": 51,
   "id": "7f87ad6d",
   "metadata": {},
   "outputs": [
    {
     "name": "stdout",
     "output_type": "stream",
     "text": [
      "Accuracy: 0.9578500803996032\n"
     ]
    }
   ],
   "source": [
    "#Import scikit-learn metrics module for accuracy calculation\n",
    "from sklearn import metrics\n",
    "# Model Accuracy, how often is the classifier correct?\n",
    "print(\"Accuracy:\",metrics.accuracy_score(y2_test, rfc_predict))"
   ]
  },
  {
   "cell_type": "code",
   "execution_count": 52,
   "id": "f4e132b4",
   "metadata": {},
   "outputs": [
    {
     "data": {
      "text/plain": [
       "RandomForestClassifier(n_jobs=1)"
      ]
     },
     "execution_count": 52,
     "metadata": {},
     "output_type": "execute_result"
    }
   ],
   "source": [
    "RandomForestClassifier(bootstrap=True, class_weight=None, criterion='gini',\n",
    "            max_depth=None, max_features='auto', max_leaf_nodes=None,\n",
    "            min_impurity_decrease=0.0, \n",
    "            min_samples_leaf=1, min_samples_split=2,\n",
    "            min_weight_fraction_leaf=0.0, n_estimators=100, n_jobs=1,\n",
    "            oob_score=False, random_state=None, verbose=0,\n",
    "            warm_start=False)"
   ]
  },
  {
   "cell_type": "code",
   "execution_count": 53,
   "id": "197edad3",
   "metadata": {},
   "outputs": [
    {
     "name": "stdout",
     "output_type": "stream",
     "text": [
      " 1) avg_p_6                        0.078301\n",
      " 2) sum_p_9                        0.071453\n",
      " 3) avg_p_8                        0.068484\n",
      " 4) sum_p_8                        0.060060\n",
      " 5) count_p_7                      0.054580\n",
      " 6) avg_p_9                        0.047687\n",
      " 7) len_p_14                       0.046716\n",
      " 8) d14_spend                      0.046181\n",
      " 9) d7_spend                       0.042405\n",
      "10) avg_p_1                        0.038481\n",
      "11) p_5                            0.035872\n",
      "12) d3_spend                       0.034864\n",
      "13) count_p_11                     0.027857\n",
      "14) d1_spend                       0.027447\n",
      "15) count_p_12                     0.026112\n",
      "16) count_p_8                      0.023857\n",
      "17) d30_spend                      0.023616\n",
      "18) avg_p_19                       0.021612\n",
      "19) first_p_18                     0.020012\n",
      "20) count_p_13                     0.019760\n",
      "21) count_p_10                     0.019441\n",
      "22) max_p_2_0.00999999977648258    0.016204\n",
      "23) avg_p_13                       0.014886\n",
      "24) sum_p_16                       0.014787\n",
      "25) sum_p_19                       0.011092\n",
      "26) sum_p_6                        0.010984\n",
      "27) count_p_9                      0.010535\n",
      "28) count_p_1                      0.006691\n",
      "29) count_p_15                     0.006352\n",
      "30) sum_p_13                       0.005224\n",
      "31) p_4                            0.004823\n",
      "32) m_4_NA                         0.003897\n",
      "33) c_71                           0.002936\n",
      "34) u_4_Casual                     0.002693\n",
      "35) c_5                            0.002415\n",
      "36) count_p_20                     0.002405\n",
      "37) u_4_Pool                       0.002249\n",
      "38) m_3_NA                         0.002146\n",
      "39) max_p_2_0.01                   0.002128\n",
      "40) m_4_1                          0.002049\n",
      "41) p_3_PRIVATE                    0.002040\n",
      "42) u_4_NA                         0.001776\n",
      "43) p_3_NA                         0.001690\n",
      "44) u_4_Trivia                     0.001636\n",
      "45) ms_1                           0.001482\n",
      "46) u_4_Pok                        0.001454\n",
      "47) p_3_PUBLIC                     0.001416\n",
      "48) u_4_Carrom                     0.001247\n",
      "49) u_3_NA                         0.001203\n",
      "50) ms_0                           0.001145\n",
      "51) c_45                           0.001120\n",
      "52) m_3_1                          0.001112\n",
      "53) u_2_NA                         0.001066\n",
      "54) u_2_Oceania                    0.001035\n",
      "55) sum_p_17                       0.001013\n",
      "56) ms_16                          0.001010\n",
      "57) ms_8                           0.001008\n",
      "58) u_2_Americas                   0.001001\n",
      "59) c_19                           0.000998\n",
      "60) c_4                            0.000959\n",
      "61) c_67                           0.000955\n",
      "62) ms_3                           0.000926\n",
      "63) u_3_Non-organic                0.000899\n",
      "64) ms_6                           0.000862\n",
      "65) m_4_0                          0.000832\n",
      "66) m_3_0                          0.000819\n",
      "67) ms_12                          0.000755\n",
      "68) c_65                           0.000746\n",
      "69) ms_2                           0.000634\n",
      "70) c_28                           0.000633\n",
      "71) ms_7                           0.000594\n",
      "72) c_25                           0.000533\n",
      "73) ms_15                          0.000493\n",
      "74) u_3_Organic                    0.000447\n",
      "75) ms_20                          0.000446\n",
      "76) ms_4                           0.000354\n",
      "77) ms_11                          0.000349\n",
      "78) u_4_Rummy                      0.000348\n",
      "79) ms_25                          0.000344\n",
      "80) ms_5                           0.000289\n",
      "81) u_4_Cards                      0.000262\n",
      "82) c_0                            0.000240\n",
      "83) c_7                            0.000238\n",
      "84) c_6                            0.000229\n",
      "85) c_17                           0.000225\n",
      "86) ms_26                          0.000181\n",
      "87) c_12                           0.000179\n",
      "88) c_9                            0.000167\n",
      "89) u_4_Poker                      0.000163\n",
      "90) max_p_2_NA                     0.000136\n",
      "91) u_2_Africa                     0.000127\n",
      "92) c_20                           0.000126\n",
      "93) count_p_19                     0.000122\n",
      "94) c_18                           0.000116\n",
      "95) c_21                           0.000112\n",
      "96) c_15                           0.000093\n",
      "97) u_4_123                        0.000054\n",
      "98) c_37                           0.000050\n",
      "99) c_29                           0.000046\n",
      "100) c_31                           0.000039\n",
      "101) c_2                            0.000029\n",
      "102) c_30                           0.000026\n",
      "103) u_2_(not set)                  0.000022\n",
      "104) c_24                           0.000019\n",
      "105) c_1                            0.000018\n",
      "106) u_2_Asia                       0.000017\n",
      "107) u_2_Europe                     0.000000\n",
      "108) c_10                           0.000000\n"
     ]
    }
   ],
   "source": [
    "#variable importance\n",
    "importance = rfc.feature_importances_\n",
    "indices = np.argsort(importance)[::-1]\n",
    "feat_labels = dfx.columns[0:]\n",
    "for f in range(X_train.shape[1]):\n",
    "    print(\"%2d) %-*s %f\" % (f + 1, 30, feat_labels[indices[f]], importance[indices[f]]))"
   ]
  },
  {
   "cell_type": "code",
   "execution_count": 54,
   "id": "71a65ce0",
   "metadata": {},
   "outputs": [],
   "source": [
    "import seaborn as sns"
   ]
  },
  {
   "cell_type": "code",
   "execution_count": 55,
   "id": "1ceeee66",
   "metadata": {},
   "outputs": [],
   "source": [
    "def plot_feature_importance(importance,names,model_type):\n",
    "\n",
    "#Create arrays from feature importance and feature names\n",
    "    feature_importance = np.array(importance)\n",
    "    feature_names = np.array(names)\n",
    "\n",
    "#Create a DataFrame using a Dictionary\n",
    "    data={'feature_names':feature_names,'feature_importance':feature_importance}\n",
    "    fi_df = pd.DataFrame(data)\n",
    "\n",
    "#Sort the DataFrame in order decreasing feature importance\n",
    "    fi_df.sort_values(by=['feature_importance'], ascending=False,inplace=True)\n",
    "    fi_df= fi_df.head(10)\n",
    "\n",
    "#Define size of bar plot\n",
    "    plt.figure(figsize=(10, 10))\n",
    "#Plot Searborn bar chart\n",
    "    sns.barplot(x=fi_df['feature_importance'], y=fi_df['feature_names'])\n",
    "#Add chart labels\n",
    "    plt.title(model_type + 'FEATURE IMPORTANCE')\n",
    "    plt.xlabel('FEATURE IMPORTANCE')\n",
    "    plt.ylabel('FEATURE NAMES')\n"
   ]
  },
  {
   "cell_type": "code",
   "execution_count": 57,
   "id": "cbf275e3",
   "metadata": {},
   "outputs": [
    {
     "data": {
      "image/png": "[encoded data removed]",
      "text/plain": [
       "<Figure size 1000x1000 with 1 Axes>"
      ]
     },
     "metadata": {},
     "output_type": "display_data"
    }
   ],
   "source": [
    "plot_feature_importance(importance, dfy_3.columns, 'RANDOM FOREST')"
   ]
  },
  {
   "cell_type": "code",
   "execution_count": null,
   "id": "d92f151c",
   "metadata": {},
   "outputs": [],
   "source": []
  }
 ],
 "metadata": {
  "kernelspec": {
   "display_name": "Python 3 (ipykernel)",
   "language": "python",
   "name": "python3"
  },
  "language_info": {
   "codemirror_mode": {
    "name": "ipython",
    "version": 3
   },
   "file_extension": ".py",
   "mimetype": "text/x-python",
   "name": "python",
   "nbconvert_exporter": "python",
   "pygments_lexer": "ipython3",
   "version": "3.9.13"
  }
 },
 "nbformat": 4,
 "nbformat_minor": 5
}
